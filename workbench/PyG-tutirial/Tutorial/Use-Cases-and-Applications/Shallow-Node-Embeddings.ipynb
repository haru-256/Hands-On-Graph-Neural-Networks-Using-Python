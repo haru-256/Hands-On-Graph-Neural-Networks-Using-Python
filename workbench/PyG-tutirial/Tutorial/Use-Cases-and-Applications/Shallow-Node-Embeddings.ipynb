{
 "cells": [
  {
   "cell_type": "markdown",
   "metadata": {},
   "source": [
    "# Shallow Node Embeddings\n",
    "\n",
    "https://pytorch-geometric.readthedocs.io/en/latest/tutorial/shallow_node_embeddings.html"
   ]
  },
  {
   "cell_type": "code",
   "execution_count": 1,
   "metadata": {},
   "outputs": [],
   "source": [
    "import torch\n",
    "from torch_geometric.datasets import Planetoid\n",
    "from torch_geometric.nn import Node2Vec"
   ]
  },
  {
   "cell_type": "code",
   "execution_count": 3,
   "metadata": {},
   "outputs": [
    {
     "name": "stderr",
     "output_type": "stream",
     "text": [
      "Downloading https://github.com/kimiyoung/planetoid/raw/master/data/ind.cora.x\n",
      "Downloading https://github.com/kimiyoung/planetoid/raw/master/data/ind.cora.tx\n",
      "Downloading https://github.com/kimiyoung/planetoid/raw/master/data/ind.cora.allx\n",
      "Downloading https://github.com/kimiyoung/planetoid/raw/master/data/ind.cora.y\n",
      "Downloading https://github.com/kimiyoung/planetoid/raw/master/data/ind.cora.ty\n",
      "Downloading https://github.com/kimiyoung/planetoid/raw/master/data/ind.cora.ally\n",
      "Downloading https://github.com/kimiyoung/planetoid/raw/master/data/ind.cora.graph\n",
      "Downloading https://github.com/kimiyoung/planetoid/raw/master/data/ind.cora.test.index\n",
      "Processing...\n",
      "Done!\n"
     ]
    }
   ],
   "source": [
    "data = Planetoid(\"/tmp/data/Planetoid\", name=\"Cora\")[0]"
   ]
  },
  {
   "cell_type": "code",
   "execution_count": 5,
   "metadata": {},
   "outputs": [],
   "source": [
    "device = \"cuda\" if torch.cuda.is_available() else \"cpu\"\n",
    "\n",
    "model = Node2Vec(\n",
    "    data.edge_index,\n",
    "    embedding_dim=128,\n",
    "    walks_per_node=10,\n",
    "    walk_length=20,\n",
    "    context_size=10,\n",
    "    p=1.0,\n",
    "    q=1.0,\n",
    "    num_negative_samples=1,\n",
    ").to(device)\n",
    "\n",
    "optimizer = torch.optim.Adam(model.parameters(), lr=0.01)"
   ]
  },
  {
   "cell_type": "code",
   "execution_count": 10,
   "metadata": {},
   "outputs": [
    {
     "data": {
      "text/plain": [
       "(torch.Size([110, 10]), torch.Size([110, 10]))"
      ]
     },
     "execution_count": 10,
     "metadata": {},
     "output_type": "execute_result"
    }
   ],
   "source": [
    "dataloader = model.loader()\n",
    "pos_rw, neg_rw = next(iter(dataloader))\n",
    "pos_rw.shape, neg_rw.shape"
   ]
  },
  {
   "cell_type": "code",
   "execution_count": 11,
   "metadata": {},
   "outputs": [
    {
     "data": {
      "text/plain": [
       "tensor([   0,  633,    0, 1862,    0, 1862,    0, 1862,  926, 1862])"
      ]
     },
     "execution_count": 11,
     "metadata": {},
     "output_type": "execute_result"
    }
   ],
   "source": [
    "pos_rw[0]"
   ]
  },
  {
   "cell_type": "code",
   "execution_count": 12,
   "metadata": {},
   "outputs": [],
   "source": [
    "def train():\n",
    "    model.train()\n",
    "    total_loss = 0\n",
    "    for pos_rw, neg_rw in dataloader:\n",
    "        optimizer.zero_grad()\n",
    "        loss = model.loss(pos_rw.to(device), neg_rw.to(device))\n",
    "        loss.backward()\n",
    "        optimizer.step()\n",
    "        total_loss += loss.item()\n",
    "    return total_loss / len(dataloader)"
   ]
  },
  {
   "cell_type": "code",
   "execution_count": 15,
   "metadata": {},
   "outputs": [
    {
     "data": {
      "text/plain": [
       "3.2982661218507605"
      ]
     },
     "execution_count": 15,
     "metadata": {},
     "output_type": "execute_result"
    }
   ],
   "source": [
    "train()"
   ]
  },
  {
   "cell_type": "code",
   "execution_count": 17,
   "metadata": {},
   "outputs": [],
   "source": [
    "z = model()  # Full node-level embeddings.\n",
    "z = model(torch.tensor([0, 1, 2]))  # Embeddings of first three nodes."
   ]
  },
  {
   "cell_type": "code",
   "execution_count": 18,
   "metadata": {},
   "outputs": [
    {
     "data": {
      "text/plain": [
       "tensor([[ 1.1862e+00,  3.1759e-01, -1.4581e+00, -1.0847e+00, -5.7915e-01,\n",
       "         -5.3900e-01, -3.5411e-01,  3.1054e-01, -3.8078e-01, -8.7181e-01,\n",
       "         -2.9935e-01, -3.4637e-02,  8.7255e-01,  1.9898e-01, -5.6562e-01,\n",
       "         -5.7564e-01,  8.3648e-02,  4.1237e-01,  7.6757e-01,  1.5138e+00,\n",
       "          8.4080e-01, -4.7636e-01, -1.7962e-01, -4.4291e-01,  3.4876e-02,\n",
       "         -4.7311e-01, -1.1404e-01, -7.8320e-01, -9.6307e-01,  1.0453e+00,\n",
       "          6.1779e-01,  6.3907e-01, -4.5890e-03, -6.8076e-01,  8.8446e-01,\n",
       "          9.9760e-01, -7.1722e-02, -5.8272e-01,  2.8821e-01,  2.0746e-01,\n",
       "         -2.0808e+00,  1.6464e+00,  5.5154e-01, -8.1724e-02, -7.8051e-01,\n",
       "         -3.5968e-01,  2.6516e-01, -7.0609e-01,  2.3366e-01,  7.0895e-01,\n",
       "         -1.1908e+00,  3.1359e-01,  8.0355e-01,  4.2230e-01, -6.2012e-01,\n",
       "         -1.2188e-01,  4.7258e-01, -1.1506e+00, -9.2656e-01,  1.7154e+00,\n",
       "          7.2737e-01, -3.7786e-01, -6.3595e-01,  2.5232e-01,  9.9620e-01,\n",
       "          1.0171e-01, -2.6627e-01,  3.1166e-01, -2.8471e-01,  1.7406e-01,\n",
       "          5.1155e-01,  2.6356e-01, -5.4695e-01, -4.3421e-02, -6.6353e-01,\n",
       "         -1.0773e+00, -8.8497e-01, -8.8740e-01, -1.7212e+00, -4.4936e-01,\n",
       "         -4.4714e-01,  2.8566e-01,  1.6848e+00, -8.4295e-01, -3.8870e-01,\n",
       "          1.0313e+00,  3.4727e-01,  6.7675e-01,  7.3957e-01,  1.2317e-01,\n",
       "          1.1072e+00, -1.2636e-01, -2.2943e-01, -5.4730e-01,  1.5395e-01,\n",
       "         -1.1403e+00,  4.2479e-01,  3.2226e-02, -1.1884e-03,  6.8591e-01,\n",
       "         -1.3757e+00,  2.5238e-01, -2.0624e-01,  5.0497e-01, -8.5903e-01,\n",
       "          7.5182e-01,  6.9435e-01,  1.9473e+00, -7.2580e-01,  3.6782e-01,\n",
       "          1.1797e+00,  2.7658e-02, -2.4635e-01,  1.2076e-01, -2.3848e-01,\n",
       "          3.0278e-01, -9.9250e-01,  9.8334e-01,  2.7747e-01,  1.3939e+00,\n",
       "         -5.0567e-01, -6.1171e-01, -2.3813e-01, -3.2626e-01, -8.4408e-02,\n",
       "          4.0819e-01, -3.0742e-01,  4.9513e-01],\n",
       "        [ 6.6013e-01,  2.0300e-01, -1.1325e-01, -2.7401e-01, -4.2964e-01,\n",
       "          5.4695e-01, -1.3183e-01, -1.0175e+00,  7.1431e-01,  3.9341e-01,\n",
       "         -2.4243e-01, -1.1610e+00,  7.9724e-02, -1.0702e-01, -6.0493e-01,\n",
       "         -1.6972e-01,  2.7610e-01,  2.3648e-01,  9.5658e-01,  3.2681e-01,\n",
       "          4.6893e-01, -7.3002e-01, -7.0092e-01, -2.2125e-01,  5.2800e-01,\n",
       "          5.8065e-02, -1.2568e+00,  2.8278e-01,  8.1526e-01,  9.5983e-01,\n",
       "         -4.2767e-01, -1.4245e-01,  3.5149e-01,  1.4053e-01,  3.3306e-02,\n",
       "          1.4991e-01,  2.0728e-01,  7.0532e-02,  1.0475e+00, -7.6276e-01,\n",
       "          3.6632e-01, -4.1038e-01, -3.8412e-01, -3.4222e-02, -3.7566e-01,\n",
       "          5.8191e-02, -3.7427e-01,  3.7600e-01,  9.1484e-02, -5.3305e-01,\n",
       "         -8.7736e-01, -3.9783e-01,  4.8412e-01,  3.8922e-01,  5.0000e-01,\n",
       "         -7.5145e-01, -1.2418e+00,  1.5181e-01,  8.0969e-01, -4.9425e-01,\n",
       "         -1.7107e-01, -1.0706e-01, -2.6744e-01,  1.6996e-01,  9.0600e-01,\n",
       "         -7.9872e-01, -1.0681e+00,  6.8310e-01, -1.4794e-01, -7.5928e-02,\n",
       "          3.6632e-01,  4.2487e-02, -3.9681e-01, -1.3429e+00,  5.7417e-01,\n",
       "         -8.4763e-01,  8.0407e-01,  1.1061e-01, -3.8370e-01, -6.6168e-01,\n",
       "         -3.0034e-01, -1.2516e+00,  7.2821e-02,  1.4744e-01,  5.7282e-01,\n",
       "         -4.9126e-01,  3.9085e-01, -2.6252e-01, -9.1352e-01,  3.1008e-01,\n",
       "          2.7427e-01, -3.1333e-01, -4.9745e-01, -6.3971e-02, -5.5591e-01,\n",
       "          2.7716e-01, -3.3175e-01,  1.0551e-01, -2.6709e-01, -1.8286e-01,\n",
       "          5.2358e-01,  6.2600e-01, -4.8167e-01,  9.4984e-02, -6.1139e-01,\n",
       "          7.6733e-01,  4.3524e-01, -2.1432e-01, -1.7916e-01, -1.2256e-01,\n",
       "          5.3676e-01,  3.2227e-01, -6.7385e-01,  3.9957e-01,  2.2300e-01,\n",
       "         -7.4803e-01,  2.3825e-01, -1.8430e-01, -7.1030e-02,  4.9016e-01,\n",
       "         -7.7828e-01, -3.9202e-01, -2.4109e-01, -3.1315e-01, -1.1483e-01,\n",
       "          2.2342e-01,  6.3570e-01, -9.5177e-01],\n",
       "        [-3.6101e-01, -8.8904e-01, -1.5241e+00, -1.2673e-01,  6.5996e-01,\n",
       "          4.3886e-01, -4.2164e-01, -3.5517e-01,  7.3574e-01,  6.2558e-01,\n",
       "         -7.8870e-03, -3.3497e-02,  3.8596e-04,  1.6167e-01,  4.3995e-02,\n",
       "          1.7935e-01,  3.1380e-02, -3.3094e-01,  3.8627e-01,  3.9676e-01,\n",
       "         -8.1410e-01,  1.8597e-03,  4.7827e-01, -5.8226e-02, -2.6114e-01,\n",
       "          1.1612e+00,  7.1235e-02, -3.5979e-01,  9.5197e-01,  1.0807e-02,\n",
       "          2.0269e-02,  8.2614e-02,  5.0116e-01, -1.4360e-01, -1.2079e+00,\n",
       "          7.0721e-01,  2.3394e-02, -4.9891e-01,  8.1705e-01,  6.7237e-02,\n",
       "          3.6333e-01, -4.4049e-01, -7.3810e-01,  2.3494e-01,  6.2492e-01,\n",
       "          5.3885e-01,  6.4762e-01,  2.1591e-01, -1.1906e+00,  6.2000e-02,\n",
       "          1.0220e-01,  5.8930e-01,  6.5059e-01,  1.2353e+00, -3.1147e-01,\n",
       "         -4.4286e-01,  8.5812e-02, -1.5824e-01,  3.6434e-03, -4.5979e-01,\n",
       "          9.2395e-02,  4.6934e-01, -1.2196e+00, -4.8608e-01,  9.5442e-01,\n",
       "          3.1397e-01, -7.2410e-01, -7.5789e-01, -5.8238e-01,  1.0712e-01,\n",
       "          1.4011e+00, -7.3157e-01, -5.9160e-01,  2.7302e-01, -5.4768e-01,\n",
       "         -4.1648e-01,  9.4876e-01,  5.4831e-01,  3.4562e-02, -5.3429e-01,\n",
       "          2.8000e-01, -8.6976e-01,  3.4061e-03, -4.3855e-01,  7.7593e-01,\n",
       "          4.2455e-01, -1.2012e-01, -4.0238e-01,  3.5806e-01, -4.9393e-01,\n",
       "          1.6832e+00,  7.9280e-01,  1.4069e-01, -2.6160e-03,  3.7356e-01,\n",
       "          6.7908e-01, -3.3292e-01, -7.8642e-01,  2.0328e-01,  2.7852e-02,\n",
       "          6.2811e-01,  1.3906e-01, -3.9124e-01,  9.4813e-02,  2.7033e-03,\n",
       "         -5.0088e-01,  7.4600e-01, -7.4447e-01, -1.1141e-01,  7.0703e-02,\n",
       "          3.4835e-01,  5.4763e-01,  3.2039e-01,  1.3524e-02, -2.9717e-01,\n",
       "          8.2902e-01, -9.1288e-01,  5.0895e-01, -2.5351e-01, -1.6775e-01,\n",
       "          4.0180e-01,  5.5462e-01, -4.0217e-01,  1.8459e-01,  3.1590e-01,\n",
       "         -1.3821e-01,  3.3555e-01, -9.0677e-01]], grad_fn=<IndexBackward0>)"
      ]
     },
     "execution_count": 18,
     "metadata": {},
     "output_type": "execute_result"
    }
   ],
   "source": [
    "z"
   ]
  },
  {
   "cell_type": "code",
   "execution_count": null,
   "metadata": {},
   "outputs": [],
   "source": []
  }
 ],
 "metadata": {
  "kernelspec": {
   "display_name": ".venv",
   "language": "python",
   "name": "python3"
  },
  "language_info": {
   "codemirror_mode": {
    "name": "ipython",
    "version": 3
   },
   "file_extension": ".py",
   "mimetype": "text/x-python",
   "name": "python",
   "nbconvert_exporter": "python",
   "pygments_lexer": "ipython3",
   "version": "3.11.8"
  }
 },
 "nbformat": 4,
 "nbformat_minor": 2
}
